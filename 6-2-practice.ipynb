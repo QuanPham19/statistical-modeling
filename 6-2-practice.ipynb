{
 "cells": [
  {
   "cell_type": "code",
   "execution_count": 65,
   "metadata": {},
   "outputs": [],
   "source": [
    "import numpy as np\n",
    "import pandas as pd\n",
    "import matplotlib.pyplot as plt\n",
    "import seaborn as sns\n",
    "\n",
    "from matplotlib.pyplot import subplots\n",
    "from statsmodels.api import OLS, add_constant\n",
    "import sklearn.model_selection as skm\n",
    "import sklearn.linear_model as skl\n",
    "from sklearn.preprocessing import StandardScaler\n",
    "from ISLP import load_data\n",
    "from ISLP.models import ModelSpec as MS\n",
    "from functools import partial\n",
    "\n",
    "from sklearn.pipeline import Pipeline\n",
    "from sklearn.decomposition import PCA\n",
    "from sklearn.cross_decomposition import PLSRegression\n",
    "from ISLP.models import (Stepwise, sklearn_selected, sklearn_selection_path)\n",
    "from l0bnb import fit_path"
   ]
  },
  {
   "cell_type": "markdown",
   "metadata": {},
   "source": [
    "### Problem 8:\n",
    "\n",
    "(a) Generate random numbers for X and e\n",
    "\n",
    "(b) Generate response as polynomial degree 3 of X\n",
    "\n",
    "(c) Using C_p forward selection, only X_2 is selected"
   ]
  },
  {
   "cell_type": "code",
   "execution_count": 94,
   "metadata": {},
   "outputs": [
    {
     "name": "stdout",
     "output_type": "stream",
     "text": [
      "[-17.49765473   3.42680403  11.53035803  -2.52436037   9.81320787]\n",
      "[27.06849839  6.28132709  9.07969446  5.03825754  6.51117948]\n",
      "[-5040.481807709409, 62.692028388329256, 1687.5105788746287, -6.1999295828459005, 1058.6260184729974]\n"
     ]
    }
   ],
   "source": [
    "np.random.seed(100)\n",
    "X = np.random.normal(loc=0, scale=10, size=100)\n",
    "\n",
    "np.random.seed(101)\n",
    "e = np.random.normal(loc=0, scale=10, size=100)\n",
    "\n",
    "print(X[:5])\n",
    "print(e[:5])\n",
    "\n",
    "beta_0, beta_1, beta_2, beta_3 = 1, 1, 1, 1\n",
    "y = [beta_0 + beta_1 * (X[i] ** 1) + beta_2 * (X[i] ** 2) + beta_3 * (X[i] ** 3) + e[i] for i in range(len(X))]\n",
    "\n",
    "print(y[:5])\n"
   ]
  },
  {
   "cell_type": "code",
   "execution_count": 95,
   "metadata": {},
   "outputs": [
    {
     "data": {
      "text/plain": [
       "<Axes: >"
      ]
     },
     "execution_count": 95,
     "metadata": {},
     "output_type": "execute_result"
    },
    {
     "data": {
      "image/png": "[encoded data removed]",
      "text/plain": [
       "<Figure size 640x480 with 1 Axes>"
      ]
     },
     "metadata": {},
     "output_type": "display_data"
    }
   ],
   "source": [
    "sns.scatterplot(x=X, y=y)"
   ]
  },
  {
   "cell_type": "code",
   "execution_count": 96,
   "metadata": {},
   "outputs": [
    {
     "data": {
      "text/html": [
       "<div>\n",
       "<style scoped>\n",
       "    .dataframe tbody tr th:only-of-type {\n",
       "        vertical-align: middle;\n",
       "    }\n",
       "\n",
       "    .dataframe tbody tr th {\n",
       "        vertical-align: top;\n",
       "    }\n",
       "\n",
       "    .dataframe thead th {\n",
       "        text-align: right;\n",
       "    }\n",
       "</style>\n",
       "<table border=\"1\" class=\"dataframe\">\n",
       "  <thead>\n",
       "    <tr style=\"text-align: right;\">\n",
       "      <th></th>\n",
       "      <th>const</th>\n",
       "      <th>X</th>\n",
       "      <th>X_2</th>\n",
       "      <th>X_3</th>\n",
       "      <th>X_4</th>\n",
       "      <th>X_5</th>\n",
       "      <th>X_6</th>\n",
       "      <th>X_7</th>\n",
       "      <th>X_8</th>\n",
       "      <th>X_9</th>\n",
       "      <th>X_10</th>\n",
       "    </tr>\n",
       "  </thead>\n",
       "  <tbody>\n",
       "    <tr>\n",
       "      <th>0</th>\n",
       "      <td>1.0</td>\n",
       "      <td>-17.497655</td>\n",
       "      <td>306.167921</td>\n",
       "      <td>-5357.220572</td>\n",
       "      <td>93738.795892</td>\n",
       "      <td>-1.640209e+06</td>\n",
       "      <td>2.869981e+07</td>\n",
       "      <td>-5.021794e+08</td>\n",
       "      <td>8.786962e+09</td>\n",
       "      <td>-1.537512e+11</td>\n",
       "      <td>2.690286e+12</td>\n",
       "    </tr>\n",
       "    <tr>\n",
       "      <th>1</th>\n",
       "      <td>1.0</td>\n",
       "      <td>3.426804</td>\n",
       "      <td>11.742986</td>\n",
       "      <td>40.240911</td>\n",
       "      <td>137.897717</td>\n",
       "      <td>4.725485e+02</td>\n",
       "      <td>1.619331e+03</td>\n",
       "      <td>5.549130e+03</td>\n",
       "      <td>1.901578e+04</td>\n",
       "      <td>6.516335e+04</td>\n",
       "      <td>2.233020e+05</td>\n",
       "    </tr>\n",
       "    <tr>\n",
       "      <th>2</th>\n",
       "      <td>1.0</td>\n",
       "      <td>11.530358</td>\n",
       "      <td>132.949156</td>\n",
       "      <td>1532.951370</td>\n",
       "      <td>17675.478134</td>\n",
       "      <td>2.038046e+05</td>\n",
       "      <td>2.349940e+06</td>\n",
       "      <td>2.709565e+07</td>\n",
       "      <td>3.124225e+08</td>\n",
       "      <td>3.602344e+09</td>\n",
       "      <td>4.153631e+10</td>\n",
       "    </tr>\n",
       "    <tr>\n",
       "      <th>3</th>\n",
       "      <td>1.0</td>\n",
       "      <td>-2.524360</td>\n",
       "      <td>6.372395</td>\n",
       "      <td>-16.086222</td>\n",
       "      <td>40.607421</td>\n",
       "      <td>-1.025078e+02</td>\n",
       "      <td>2.587665e+02</td>\n",
       "      <td>-6.532200e+02</td>\n",
       "      <td>1.648963e+03</td>\n",
       "      <td>-4.162576e+03</td>\n",
       "      <td>1.050784e+04</td>\n",
       "    </tr>\n",
       "    <tr>\n",
       "      <th>4</th>\n",
       "      <td>1.0</td>\n",
       "      <td>9.813208</td>\n",
       "      <td>96.299049</td>\n",
       "      <td>945.002582</td>\n",
       "      <td>9273.506779</td>\n",
       "      <td>9.100285e+04</td>\n",
       "      <td>8.930299e+05</td>\n",
       "      <td>8.763488e+06</td>\n",
       "      <td>8.599793e+07</td>\n",
       "      <td>8.439155e+08</td>\n",
       "      <td>8.281519e+09</td>\n",
       "    </tr>\n",
       "  </tbody>\n",
       "</table>\n",
       "</div>"
      ],
      "text/plain": [
       "   const          X         X_2          X_3           X_4           X_5  \\\n",
       "0    1.0 -17.497655  306.167921 -5357.220572  93738.795892 -1.640209e+06   \n",
       "1    1.0   3.426804   11.742986    40.240911    137.897717  4.725485e+02   \n",
       "2    1.0  11.530358  132.949156  1532.951370  17675.478134  2.038046e+05   \n",
       "3    1.0  -2.524360    6.372395   -16.086222     40.607421 -1.025078e+02   \n",
       "4    1.0   9.813208   96.299049   945.002582   9273.506779  9.100285e+04   \n",
       "\n",
       "            X_6           X_7           X_8           X_9          X_10  \n",
       "0  2.869981e+07 -5.021794e+08  8.786962e+09 -1.537512e+11  2.690286e+12  \n",
       "1  1.619331e+03  5.549130e+03  1.901578e+04  6.516335e+04  2.233020e+05  \n",
       "2  2.349940e+06  2.709565e+07  3.124225e+08  3.602344e+09  4.153631e+10  \n",
       "3  2.587665e+02 -6.532200e+02  1.648963e+03 -4.162576e+03  1.050784e+04  \n",
       "4  8.930299e+05  8.763488e+06  8.599793e+07  8.439155e+08  8.281519e+09  "
      ]
     },
     "execution_count": 96,
     "metadata": {},
     "output_type": "execute_result"
    }
   ],
   "source": [
    "df = pd.DataFrame({'X': X})\n",
    "for i in range(2, 11):\n",
    "    df[f'X_{i}'] = df['X'] ** i\n",
    "\n",
    "df = add_constant(df)\n",
    "df.head()"
   ]
  },
  {
   "cell_type": "code",
   "execution_count": 97,
   "metadata": {},
   "outputs": [
    {
     "data": {
      "text/html": [
       "<table class=\"simpletable\">\n",
       "<caption>OLS Regression Results</caption>\n",
       "<tr>\n",
       "  <th>Dep. Variable:</th>            <td>y</td>        <th>  R-squared:         </th> <td>   1.000</td> \n",
       "</tr>\n",
       "<tr>\n",
       "  <th>Model:</th>                   <td>OLS</td>       <th>  Adj. R-squared:    </th> <td>   1.000</td> \n",
       "</tr>\n",
       "<tr>\n",
       "  <th>Method:</th>             <td>Least Squares</td>  <th>  F-statistic:       </th> <td>6.296e+05</td>\n",
       "</tr>\n",
       "<tr>\n",
       "  <th>Date:</th>             <td>Sun, 28 Jul 2024</td> <th>  Prob (F-statistic):</th> <td>3.14e-211</td>\n",
       "</tr>\n",
       "<tr>\n",
       "  <th>Time:</th>                 <td>13:59:17</td>     <th>  Log-Likelihood:    </th> <td> -370.08</td> \n",
       "</tr>\n",
       "<tr>\n",
       "  <th>No. Observations:</th>      <td>   100</td>      <th>  AIC:               </th> <td>   762.2</td> \n",
       "</tr>\n",
       "<tr>\n",
       "  <th>Df Residuals:</th>          <td>    89</td>      <th>  BIC:               </th> <td>   790.8</td> \n",
       "</tr>\n",
       "<tr>\n",
       "  <th>Df Model:</th>              <td>    10</td>      <th>                     </th>     <td> </td>    \n",
       "</tr>\n",
       "<tr>\n",
       "  <th>Covariance Type:</th>      <td>nonrobust</td>    <th>                     </th>     <td> </td>    \n",
       "</tr>\n",
       "</table>\n",
       "<table class=\"simpletable\">\n",
       "<tr>\n",
       "    <td></td>       <th>coef</th>     <th>std err</th>      <th>t</th>      <th>P>|t|</th>  <th>[0.025</th>    <th>0.975]</th>  \n",
       "</tr>\n",
       "<tr>\n",
       "  <th>const</th> <td>    1.0406</td> <td>    2.323</td> <td>    0.448</td> <td> 0.655</td> <td>   -3.576</td> <td>    5.657</td>\n",
       "</tr>\n",
       "<tr>\n",
       "  <th>X</th>     <td>    1.2579</td> <td>    0.726</td> <td>    1.734</td> <td> 0.086</td> <td>   -0.184</td> <td>    2.699</td>\n",
       "</tr>\n",
       "<tr>\n",
       "  <th>X_2</th>   <td>    0.9378</td> <td>    0.167</td> <td>    5.608</td> <td> 0.000</td> <td>    0.605</td> <td>    1.270</td>\n",
       "</tr>\n",
       "<tr>\n",
       "  <th>X_3</th>   <td>    0.9924</td> <td>    0.021</td> <td>   47.252</td> <td> 0.000</td> <td>    0.951</td> <td>    1.034</td>\n",
       "</tr>\n",
       "<tr>\n",
       "  <th>X_4</th>   <td>    0.0015</td> <td>    0.003</td> <td>    0.476</td> <td> 0.635</td> <td>   -0.005</td> <td>    0.008</td>\n",
       "</tr>\n",
       "<tr>\n",
       "  <th>X_5</th>   <td> 8.106e-05</td> <td>    0.000</td> <td>    0.437</td> <td> 0.663</td> <td>   -0.000</td> <td>    0.000</td>\n",
       "</tr>\n",
       "<tr>\n",
       "  <th>X_6</th>   <td>-6.806e-06</td> <td> 2.07e-05</td> <td>   -0.329</td> <td> 0.743</td> <td>-4.79e-05</td> <td> 3.43e-05</td>\n",
       "</tr>\n",
       "<tr>\n",
       "  <th>X_7</th>   <td>-3.203e-07</td> <td> 6.21e-07</td> <td>   -0.516</td> <td> 0.607</td> <td>-1.55e-06</td> <td> 9.13e-07</td>\n",
       "</tr>\n",
       "<tr>\n",
       "  <th>X_8</th>   <td> 9.868e-09</td> <td> 5.67e-08</td> <td>    0.174</td> <td> 0.862</td> <td>-1.03e-07</td> <td> 1.23e-07</td>\n",
       "</tr>\n",
       "<tr>\n",
       "  <th>X_9</th>   <td> 3.965e-10</td> <td> 6.98e-10</td> <td>    0.568</td> <td> 0.571</td> <td> -9.9e-10</td> <td> 1.78e-09</td>\n",
       "</tr>\n",
       "<tr>\n",
       "  <th>X_10</th>  <td>-1.624e-12</td> <td> 5.33e-11</td> <td>   -0.030</td> <td> 0.976</td> <td>-1.07e-10</td> <td> 1.04e-10</td>\n",
       "</tr>\n",
       "</table>\n",
       "<table class=\"simpletable\">\n",
       "<tr>\n",
       "  <th>Omnibus:</th>       <td> 1.238</td> <th>  Durbin-Watson:     </th> <td>   2.123</td>\n",
       "</tr>\n",
       "<tr>\n",
       "  <th>Prob(Omnibus):</th> <td> 0.538</td> <th>  Jarque-Bera (JB):  </th> <td>   1.275</td>\n",
       "</tr>\n",
       "<tr>\n",
       "  <th>Skew:</th>          <td> 0.188</td> <th>  Prob(JB):          </th> <td>   0.529</td>\n",
       "</tr>\n",
       "<tr>\n",
       "  <th>Kurtosis:</th>      <td> 2.594</td> <th>  Cond. No.          </th> <td>2.06e+13</td>\n",
       "</tr>\n",
       "</table><br/><br/>Notes:<br/>[1] Standard Errors assume that the covariance matrix of the errors is correctly specified.<br/>[2] The condition number is large, 2.06e+13. This might indicate that there are<br/>strong multicollinearity or other numerical problems."
      ],
      "text/latex": [
       "\\begin{center}\n",
       "\\begin{tabular}{lclc}\n",
       "\\toprule\n",
       "\\textbf{Dep. Variable:}    &        y         & \\textbf{  R-squared:         } &     1.000   \\\\\n",
       "\\textbf{Model:}            &       OLS        & \\textbf{  Adj. R-squared:    } &     1.000   \\\\\n",
       "\\textbf{Method:}           &  Least Squares   & \\textbf{  F-statistic:       } & 6.296e+05   \\\\\n",
       "\\textbf{Date:}             & Sun, 28 Jul 2024 & \\textbf{  Prob (F-statistic):} & 3.14e-211   \\\\\n",
       "\\textbf{Time:}             &     13:59:17     & \\textbf{  Log-Likelihood:    } &   -370.08   \\\\\n",
       "\\textbf{No. Observations:} &         100      & \\textbf{  AIC:               } &     762.2   \\\\\n",
       "\\textbf{Df Residuals:}     &          89      & \\textbf{  BIC:               } &     790.8   \\\\\n",
       "\\textbf{Df Model:}         &          10      & \\textbf{                     } &             \\\\\n",
       "\\textbf{Covariance Type:}  &    nonrobust     & \\textbf{                     } &             \\\\\n",
       "\\bottomrule\n",
       "\\end{tabular}\n",
       "\\begin{tabular}{lcccccc}\n",
       "               & \\textbf{coef} & \\textbf{std err} & \\textbf{t} & \\textbf{P$> |$t$|$} & \\textbf{[0.025} & \\textbf{0.975]}  \\\\\n",
       "\\midrule\n",
       "\\textbf{const} &       1.0406  &        2.323     &     0.448  &         0.655        &       -3.576    &        5.657     \\\\\n",
       "\\textbf{X}     &       1.2579  &        0.726     &     1.734  &         0.086        &       -0.184    &        2.699     \\\\\n",
       "\\textbf{X\\_2}  &       0.9378  &        0.167     &     5.608  &         0.000        &        0.605    &        1.270     \\\\\n",
       "\\textbf{X\\_3}  &       0.9924  &        0.021     &    47.252  &         0.000        &        0.951    &        1.034     \\\\\n",
       "\\textbf{X\\_4}  &       0.0015  &        0.003     &     0.476  &         0.635        &       -0.005    &        0.008     \\\\\n",
       "\\textbf{X\\_5}  &    8.106e-05  &        0.000     &     0.437  &         0.663        &       -0.000    &        0.000     \\\\\n",
       "\\textbf{X\\_6}  &   -6.806e-06  &     2.07e-05     &    -0.329  &         0.743        &    -4.79e-05    &     3.43e-05     \\\\\n",
       "\\textbf{X\\_7}  &   -3.203e-07  &     6.21e-07     &    -0.516  &         0.607        &    -1.55e-06    &     9.13e-07     \\\\\n",
       "\\textbf{X\\_8}  &    9.868e-09  &     5.67e-08     &     0.174  &         0.862        &    -1.03e-07    &     1.23e-07     \\\\\n",
       "\\textbf{X\\_9}  &    3.965e-10  &     6.98e-10     &     0.568  &         0.571        &     -9.9e-10    &     1.78e-09     \\\\\n",
       "\\textbf{X\\_10} &   -1.624e-12  &     5.33e-11     &    -0.030  &         0.976        &    -1.07e-10    &     1.04e-10     \\\\\n",
       "\\bottomrule\n",
       "\\end{tabular}\n",
       "\\begin{tabular}{lclc}\n",
       "\\textbf{Omnibus:}       &  1.238 & \\textbf{  Durbin-Watson:     } &    2.123  \\\\\n",
       "\\textbf{Prob(Omnibus):} &  0.538 & \\textbf{  Jarque-Bera (JB):  } &    1.275  \\\\\n",
       "\\textbf{Skew:}          &  0.188 & \\textbf{  Prob(JB):          } &    0.529  \\\\\n",
       "\\textbf{Kurtosis:}      &  2.594 & \\textbf{  Cond. No.          } & 2.06e+13  \\\\\n",
       "\\bottomrule\n",
       "\\end{tabular}\n",
       "%\\caption{OLS Regression Results}\n",
       "\\end{center}\n",
       "\n",
       "Notes: \\newline\n",
       " [1] Standard Errors assume that the covariance matrix of the errors is correctly specified. \\newline\n",
       " [2] The condition number is large, 2.06e+13. This might indicate that there are \\newline\n",
       " strong multicollinearity or other numerical problems."
      ],
      "text/plain": [
       "<class 'statsmodels.iolib.summary.Summary'>\n",
       "\"\"\"\n",
       "                            OLS Regression Results                            \n",
       "==============================================================================\n",
       "Dep. Variable:                      y   R-squared:                       1.000\n",
       "Model:                            OLS   Adj. R-squared:                  1.000\n",
       "Method:                 Least Squares   F-statistic:                 6.296e+05\n",
       "Date:                Sun, 28 Jul 2024   Prob (F-statistic):          3.14e-211\n",
       "Time:                        13:59:17   Log-Likelihood:                -370.08\n",
       "No. Observations:                 100   AIC:                             762.2\n",
       "Df Residuals:                      89   BIC:                             790.8\n",
       "Df Model:                          10                                         \n",
       "Covariance Type:            nonrobust                                         \n",
       "==============================================================================\n",
       "                 coef    std err          t      P>|t|      [0.025      0.975]\n",
       "------------------------------------------------------------------------------\n",
       "const          1.0406      2.323      0.448      0.655      -3.576       5.657\n",
       "X              1.2579      0.726      1.734      0.086      -0.184       2.699\n",
       "X_2            0.9378      0.167      5.608      0.000       0.605       1.270\n",
       "X_3            0.9924      0.021     47.252      0.000       0.951       1.034\n",
       "X_4            0.0015      0.003      0.476      0.635      -0.005       0.008\n",
       "X_5         8.106e-05      0.000      0.437      0.663      -0.000       0.000\n",
       "X_6        -6.806e-06   2.07e-05     -0.329      0.743   -4.79e-05    3.43e-05\n",
       "X_7        -3.203e-07   6.21e-07     -0.516      0.607   -1.55e-06    9.13e-07\n",
       "X_8         9.868e-09   5.67e-08      0.174      0.862   -1.03e-07    1.23e-07\n",
       "X_9         3.965e-10   6.98e-10      0.568      0.571    -9.9e-10    1.78e-09\n",
       "X_10       -1.624e-12   5.33e-11     -0.030      0.976   -1.07e-10    1.04e-10\n",
       "==============================================================================\n",
       "Omnibus:                        1.238   Durbin-Watson:                   2.123\n",
       "Prob(Omnibus):                  0.538   Jarque-Bera (JB):                1.275\n",
       "Skew:                           0.188   Prob(JB):                        0.529\n",
       "Kurtosis:                       2.594   Cond. No.                     2.06e+13\n",
       "==============================================================================\n",
       "\n",
       "Notes:\n",
       "[1] Standard Errors assume that the covariance matrix of the errors is correctly specified.\n",
       "[2] The condition number is large, 2.06e+13. This might indicate that there are\n",
       "strong multicollinearity or other numerical problems.\n",
       "\"\"\""
      ]
     },
     "execution_count": 97,
     "metadata": {},
     "output_type": "execute_result"
    }
   ],
   "source": [
    "model = OLS(y, df)\n",
    "result = model.fit()\n",
    "ols = result.predict(df)\n",
    "result.summary()"
   ]
  },
  {
   "cell_type": "code",
   "execution_count": 98,
   "metadata": {},
   "outputs": [
    {
     "name": "stdout",
     "output_type": "stream",
     "text": [
      "['const']\n",
      "                            OLS Regression Results                            \n",
      "==============================================================================\n",
      "Dep. Variable:                      y   R-squared:                       0.000\n",
      "Model:                            OLS   Adj. R-squared:                  0.000\n",
      "Method:                 Least Squares   F-statistic:                       nan\n",
      "Date:                Sun, 28 Jul 2024   Prob (F-statistic):                nan\n",
      "Time:                        13:59:26   Log-Likelihood:                -928.42\n",
      "No. Observations:                 100   AIC:                             1859.\n",
      "Df Residuals:                      99   BIC:                             1861.\n",
      "Df Model:                           0                                         \n",
      "Covariance Type:            nonrobust                                         \n",
      "==============================================================================\n",
      "                 coef    std err          t      P>|t|      [0.025      0.975]\n",
      "------------------------------------------------------------------------------\n",
      "const       -214.4804    261.821     -0.819      0.415    -733.991     305.030\n",
      "==============================================================================\n",
      "Omnibus:                       49.565   Durbin-Watson:                   1.629\n",
      "Prob(Omnibus):                  0.000   Jarque-Bera (JB):              471.830\n",
      "Skew:                          -1.218   Prob(JB):                    3.49e-103\n",
      "Kurtosis:                      13.359   Cond. No.                         1.00\n",
      "==============================================================================\n",
      "\n",
      "Notes:\n",
      "[1] Standard Errors assume that the covariance matrix of the errors is correctly specified.\n"
     ]
    }
   ],
   "source": [
    "def nCp(sigma2, estimator, X, y):\n",
    "    n, p = X.shape\n",
    "    yhat = estimator.predict(X)\n",
    "    RSS = np.sum((y - yhat) ** 2)\n",
    "    return - (RSS + 2 * p * sigma2) / n\n",
    "\n",
    "sigma2 = result.scale\n",
    "neg_Cp = partial(nCp, sigma2)\n",
    "\n",
    "def forward_selection(X, y, sigma2):\n",
    "    remaining_features = list(X.columns)\n",
    "    selected_features = []\n",
    "    current_score, best_new_score = float('inf'), float('inf')\n",
    "    while remaining_features and current_score == best_new_score:\n",
    "        scores_with_candidates = []\n",
    "        for candidate in remaining_features:\n",
    "            model = OLS(y, add_constant(pd.DataFrame(X[selected_features + [candidate]]))).fit()\n",
    "            score = neg_Cp(model, add_constant(pd.DataFrame(X[selected_features + [candidate]])), y)\n",
    "            scores_with_candidates.append((score, candidate))\n",
    "        scores_with_candidates.sort()\n",
    "        best_new_score, best_candidate = scores_with_candidates[0]\n",
    "        if current_score > best_new_score:\n",
    "            remaining_features.remove(best_candidate)\n",
    "            selected_features.append(best_candidate)\n",
    "            current_score = best_new_score\n",
    "    print(selected_features)\n",
    "    model = OLS(y, add_constant(pd.DataFrame(X[selected_features]))).fit()\n",
    "    return model\n",
    "\n",
    "model = forward_selection(df, y, sigma2)\n",
    "print(model.summary())\n"
   ]
  },
  {
   "cell_type": "code",
   "execution_count": 99,
   "metadata": {},
   "outputs": [
    {
     "name": "stdout",
     "output_type": "stream",
     "text": [
      "Best lambda (alpha) from cross-validation: 85694619461278.89\n",
      "R-squared score on the test set: 0.6067307411031959\n",
      "Lasso coefficients: [ 0.00000000e+00  0.00000000e+00 -0.00000000e+00  0.00000000e+00\n",
      " -0.00000000e+00  0.00000000e+00 -0.00000000e+00  0.00000000e+00\n",
      " -0.00000000e+00  7.76704302e-09  1.50707016e-10]\n"
     ]
    }
   ],
   "source": [
    "lasso_cv = skl.LassoCV(cv=5, random_state=42)\n",
    "lasso_cv.fit(df, y)\n",
    "\n",
    "best_lambda = lasso_cv.alpha_\n",
    "print(f\"Best lambda (alpha) from cross-validation: {best_lambda}\")\n",
    "print(f\"R-squared score on the test set: {lasso_cv.score(df, y)}\")\n",
    "\n",
    "lasso_coefficients = lasso_cv.coef_\n",
    "print(f\"Lasso coefficients: {lasso_coefficients}\")"
   ]
  },
  {
   "cell_type": "code",
   "execution_count": 100,
   "metadata": {},
   "outputs": [
    {
     "data": {
      "text/plain": [
       "<Axes: >"
      ]
     },
     "execution_count": 100,
     "metadata": {},
     "output_type": "execute_result"
    },
    {
     "data": {
      "image/png": "[encoded data removed]",
      "text/plain": [
       "<Figure size 640x480 with 1 Axes>"
      ]
     },
     "metadata": {},
     "output_type": "display_data"
    }
   ],
   "source": [
    "pred = lasso_cv.predict(df)\n",
    "sns.scatterplot(x=X, y=pred, label='Prediction')\n",
    "sns.scatterplot(x=X, y=y, label='Actual')"
   ]
  },
  {
   "cell_type": "code",
   "execution_count": 101,
   "metadata": {},
   "outputs": [
    {
     "data": {
      "image/png": "[encoded data removed]",
      "text/plain": [
       "<Figure size 1000x600 with 1 Axes>"
      ]
     },
     "metadata": {},
     "output_type": "display_data"
    }
   ],
   "source": [
    "mse_path = lasso_cv.mse_path_\n",
    "mean_mse = mse_path.mean(axis=1)\n",
    "lambdas = lasso_cv.alphas_\n",
    "\n",
    "plt.figure(figsize=(10, 6))\n",
    "plt.plot(lambdas, mean_mse, marker='o')\n",
    "plt.axvline(best_lambda, linestyle='--', color='r', label=f'Best Lambda: {best_lambda}')\n",
    "plt.xscale('log')\n",
    "plt.xlabel('Lambda')\n",
    "plt.ylabel('Mean Squared Error (MSE)')\n",
    "plt.title('MSE Optimization over Lambda')\n",
    "plt.legend()\n",
    "plt.show()"
   ]
  }
 ],
 "metadata": {
  "kernelspec": {
   "display_name": "Python 3 (ipykernel)",
   "language": "python",
   "name": "python3"
  },
  "language_info": {
   "codemirror_mode": {
    "name": "ipython",
    "version": 3
   },
   "file_extension": ".py",
   "mimetype": "text/x-python",
   "name": "python",
   "nbconvert_exporter": "python",
   "pygments_lexer": "ipython3",
   "version": "3.10.13"
  }
 },
 "nbformat": 4,
 "nbformat_minor": 2
}
