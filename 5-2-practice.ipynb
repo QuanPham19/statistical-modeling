{
 "cells": [
  {
   "cell_type": "code",
   "execution_count": 2,
   "metadata": {},
   "outputs": [],
   "source": [
    "import numpy as np\n",
    "import statsmodels.api as sm\n",
    "import random\n",
    "\n",
    "from ISLP import load_data\n",
    "from ISLP.models import (ModelSpec as MS, summarize, poly)\n",
    "from sklearn.model_selection import train_test_split\n",
    "\n",
    "from functools import partial\n",
    "from sklearn.model_selection import (cross_validate, KFold, ShuffleSplit, cross_val_score)\n",
    "from sklearn.base import clone\n",
    "from sklearn.base import BaseEstimator, ClassifierMixin\n",
    "from ISLP.models import sklearn_sm"
   ]
  },
  {
   "cell_type": "markdown",
   "metadata": {},
   "source": [
    "### Problem 5:\n",
    "\n",
    "(a) Fit a logistic regression using 'income' and 'balance' to predict 'default'\n",
    "\n",
    "(b) Use validation set approach for 1 iteration\n",
    "\n",
    "(c) Repeat 10 times: the average accuracy is 97.47%\n",
    "\n",
    "(d) Using additional 'student': the average accuracy is 97.42%"
   ]
  },
  {
   "cell_type": "code",
   "execution_count": 3,
   "metadata": {},
   "outputs": [
    {
     "data": {
      "text/html": [
       "<div>\n",
       "<style scoped>\n",
       "    .dataframe tbody tr th:only-of-type {\n",
       "        vertical-align: middle;\n",
       "    }\n",
       "\n",
       "    .dataframe tbody tr th {\n",
       "        vertical-align: top;\n",
       "    }\n",
       "\n",
       "    .dataframe thead th {\n",
       "        text-align: right;\n",
       "    }\n",
       "</style>\n",
       "<table border=\"1\" class=\"dataframe\">\n",
       "  <thead>\n",
       "    <tr style=\"text-align: right;\">\n",
       "      <th></th>\n",
       "      <th>default</th>\n",
       "      <th>student</th>\n",
       "      <th>balance</th>\n",
       "      <th>income</th>\n",
       "    </tr>\n",
       "  </thead>\n",
       "  <tbody>\n",
       "    <tr>\n",
       "      <th>0</th>\n",
       "      <td>No</td>\n",
       "      <td>No</td>\n",
       "      <td>729.526495</td>\n",
       "      <td>44361.625074</td>\n",
       "    </tr>\n",
       "    <tr>\n",
       "      <th>1</th>\n",
       "      <td>No</td>\n",
       "      <td>Yes</td>\n",
       "      <td>817.180407</td>\n",
       "      <td>12106.134700</td>\n",
       "    </tr>\n",
       "    <tr>\n",
       "      <th>2</th>\n",
       "      <td>No</td>\n",
       "      <td>No</td>\n",
       "      <td>1073.549164</td>\n",
       "      <td>31767.138947</td>\n",
       "    </tr>\n",
       "    <tr>\n",
       "      <th>3</th>\n",
       "      <td>No</td>\n",
       "      <td>No</td>\n",
       "      <td>529.250605</td>\n",
       "      <td>35704.493935</td>\n",
       "    </tr>\n",
       "    <tr>\n",
       "      <th>4</th>\n",
       "      <td>No</td>\n",
       "      <td>No</td>\n",
       "      <td>785.655883</td>\n",
       "      <td>38463.495879</td>\n",
       "    </tr>\n",
       "  </tbody>\n",
       "</table>\n",
       "</div>"
      ],
      "text/plain": [
       "  default student      balance        income\n",
       "0      No      No   729.526495  44361.625074\n",
       "1      No     Yes   817.180407  12106.134700\n",
       "2      No      No  1073.549164  31767.138947\n",
       "3      No      No   529.250605  35704.493935\n",
       "4      No      No   785.655883  38463.495879"
      ]
     },
     "execution_count": 3,
     "metadata": {},
     "output_type": "execute_result"
    }
   ],
   "source": [
    "Default = load_data('Default')\n",
    "Default.head()"
   ]
  },
  {
   "cell_type": "code",
   "execution_count": 4,
   "metadata": {},
   "outputs": [
    {
     "data": {
      "text/plain": [
       "default\n",
       "0    9667\n",
       "1     333\n",
       "Name: count, dtype: int64"
      ]
     },
     "execution_count": 4,
     "metadata": {},
     "output_type": "execute_result"
    }
   ],
   "source": [
    "X = Default[['balance', 'income']]\n",
    "X = sm.add_constant(X)\n",
    "y = Default['default'].map({'No': 0, 'Yes': 1})\n",
    "y.value_counts()"
   ]
  },
  {
   "cell_type": "code",
   "execution_count": 5,
   "metadata": {},
   "outputs": [
    {
     "data": {
      "text/html": [
       "<div>\n",
       "<style scoped>\n",
       "    .dataframe tbody tr th:only-of-type {\n",
       "        vertical-align: middle;\n",
       "    }\n",
       "\n",
       "    .dataframe tbody tr th {\n",
       "        vertical-align: top;\n",
       "    }\n",
       "\n",
       "    .dataframe thead th {\n",
       "        text-align: right;\n",
       "    }\n",
       "</style>\n",
       "<table border=\"1\" class=\"dataframe\">\n",
       "  <thead>\n",
       "    <tr style=\"text-align: right;\">\n",
       "      <th></th>\n",
       "      <th>coef</th>\n",
       "      <th>std err</th>\n",
       "      <th>z</th>\n",
       "      <th>P&gt;|z|</th>\n",
       "    </tr>\n",
       "  </thead>\n",
       "  <tbody>\n",
       "    <tr>\n",
       "      <th>const</th>\n",
       "      <td>-11.540500</td>\n",
       "      <td>0.435000</td>\n",
       "      <td>-26.544</td>\n",
       "      <td>0.0</td>\n",
       "    </tr>\n",
       "    <tr>\n",
       "      <th>balance</th>\n",
       "      <td>0.005600</td>\n",
       "      <td>0.000000</td>\n",
       "      <td>24.835</td>\n",
       "      <td>0.0</td>\n",
       "    </tr>\n",
       "    <tr>\n",
       "      <th>income</th>\n",
       "      <td>0.000021</td>\n",
       "      <td>0.000005</td>\n",
       "      <td>4.174</td>\n",
       "      <td>0.0</td>\n",
       "    </tr>\n",
       "  </tbody>\n",
       "</table>\n",
       "</div>"
      ],
      "text/plain": [
       "              coef   std err       z  P>|z|\n",
       "const   -11.540500  0.435000 -26.544    0.0\n",
       "balance   0.005600  0.000000  24.835    0.0\n",
       "income    0.000021  0.000005   4.174    0.0"
      ]
     },
     "execution_count": 5,
     "metadata": {},
     "output_type": "execute_result"
    }
   ],
   "source": [
    "model = sm.GLM(y, X, family=sm.families.Binomial())\n",
    "result = model.fit()\n",
    "summarize(result)"
   ]
  },
  {
   "cell_type": "code",
   "execution_count": 6,
   "metadata": {},
   "outputs": [
    {
     "name": "stdout",
     "output_type": "stream",
     "text": [
      "Average accuracy of 1 split: 0.9737\n"
     ]
    }
   ],
   "source": [
    "probs = result.predict()\n",
    "pred = (probs >= 0.5).astype(int)\n",
    "print(f'Average accuracy of 1 split: {(pred == y).mean()}')"
   ]
  },
  {
   "cell_type": "code",
   "execution_count": 7,
   "metadata": {},
   "outputs": [
    {
     "name": "stdout",
     "output_type": "stream",
     "text": [
      "Average accuracy of 10 different splits: 0.9747\n"
     ]
    }
   ],
   "source": [
    "score = []\n",
    "for rand in range(10):\n",
    "    X_train, X_test, y_train, y_test = train_test_split(X, y, test_size=5000, random_state=rand)\n",
    "    model = sm.GLM(y_train, X_train, family=sm.families.Binomial())\n",
    "    result = model.fit()\n",
    "\n",
    "    probs = result.predict(X_test)\n",
    "    pred = (probs >= 0.5).astype(int)\n",
    "    score.append((pred == y_test).mean())\n",
    "print(f'Average accuracy of 10 different splits: {np.mean(score)}')"
   ]
  },
  {
   "cell_type": "code",
   "execution_count": 8,
   "metadata": {},
   "outputs": [
    {
     "name": "stdout",
     "output_type": "stream",
     "text": [
      "Average accuracy of 10 different splits: 0.9742799999999999\n"
     ]
    }
   ],
   "source": [
    "X = Default[['balance', 'income', 'student']]\n",
    "X = sm.add_constant(X)\n",
    "X['student'] = X['student'].map({'No': 0, 'Yes': 1})\n",
    "\n",
    "score = []\n",
    "for rand in range(10):\n",
    "    X_train, X_test, y_train, y_test = train_test_split(X, y, test_size=5000, random_state=rand)\n",
    "    model = sm.GLM(y_train, X_train, family=sm.families.Binomial())\n",
    "    result = model.fit()\n",
    "\n",
    "    probs = result.predict(X_test)\n",
    "    pred = (probs >= 0.5).astype(int)\n",
    "    score.append((pred == y_test).mean())\n",
    "\n",
    "print(f'Average accuracy of 10 different splits: {np.mean(score)}')\n"
   ]
  },
  {
   "cell_type": "code",
   "execution_count": 9,
   "metadata": {},
   "outputs": [
    {
     "name": "stdout",
     "output_type": "stream",
     "text": [
      "Average accuracy of 10-fold cross-validation: 0.9730000000000001\n"
     ]
    }
   ],
   "source": [
    "X = Default[['balance', 'income', 'student']]\n",
    "X = sm.add_constant(X)\n",
    "X['student'] = X['student'].map({'No': 0, 'Yes': 1})\n",
    "y = Default['default'].map({'No': 0, 'Yes': 1})\n",
    "\n",
    "class StatsModelsGLM(BaseEstimator, ClassifierMixin):\n",
    "    def __init__(self, family=sm.families.Binomial()):\n",
    "        self.family = family\n",
    "\n",
    "    def fit(self, X, y):\n",
    "        self.model = sm.GLM(y, X, family=self.family).fit()\n",
    "        self.classes_ = np.unique(y)\n",
    "        return self\n",
    "\n",
    "    def predict(self, X):\n",
    "        probs = self.model.predict(X)\n",
    "        return (probs >= 0.5).astype(int)\n",
    "\n",
    "    def predict_proba(self, X):\n",
    "        probs = self.model.predict(X)\n",
    "        return np.vstack([1 - probs, probs]).T\n",
    "\n",
    "glm_clf = StatsModelsGLM()\n",
    "kf = KFold(n_splits=10, shuffle=True, random_state=1)\n",
    "scores = cross_val_score(glm_clf, X, y, cv=kf, scoring='accuracy')\n",
    "\n",
    "print(f'Average accuracy of 10-fold cross-validation: {np.mean(scores)}')"
   ]
  },
  {
   "cell_type": "markdown",
   "metadata": {},
   "source": [
    "### Problem 6:\n",
    "\n",
    "(a) Using summary of GLM, standard error is negligible < (10^-6)\n",
    "\n",
    "(b) Write boot_fn and boot_se function for bootstrap standard error\n",
    "\n",
    "(c) Using bootstrap, standard error is 2*(10^-4) and 5*(10^-6) respectively\n",
    "\n",
    "(d) Standard error by bootstrap is more reliable, as no requirement on model assumptions"
   ]
  },
  {
   "cell_type": "code",
   "execution_count": 10,
   "metadata": {},
   "outputs": [
    {
     "data": {
      "text/html": [
       "<div>\n",
       "<style scoped>\n",
       "    .dataframe tbody tr th:only-of-type {\n",
       "        vertical-align: middle;\n",
       "    }\n",
       "\n",
       "    .dataframe tbody tr th {\n",
       "        vertical-align: top;\n",
       "    }\n",
       "\n",
       "    .dataframe thead th {\n",
       "        text-align: right;\n",
       "    }\n",
       "</style>\n",
       "<table border=\"1\" class=\"dataframe\">\n",
       "  <thead>\n",
       "    <tr style=\"text-align: right;\">\n",
       "      <th></th>\n",
       "      <th>coef</th>\n",
       "      <th>std err</th>\n",
       "      <th>z</th>\n",
       "      <th>P&gt;|z|</th>\n",
       "    </tr>\n",
       "  </thead>\n",
       "  <tbody>\n",
       "    <tr>\n",
       "      <th>const</th>\n",
       "      <td>-11.540500</td>\n",
       "      <td>0.435000</td>\n",
       "      <td>-26.544</td>\n",
       "      <td>0.0</td>\n",
       "    </tr>\n",
       "    <tr>\n",
       "      <th>balance</th>\n",
       "      <td>0.005600</td>\n",
       "      <td>0.000000</td>\n",
       "      <td>24.835</td>\n",
       "      <td>0.0</td>\n",
       "    </tr>\n",
       "    <tr>\n",
       "      <th>income</th>\n",
       "      <td>0.000021</td>\n",
       "      <td>0.000005</td>\n",
       "      <td>4.174</td>\n",
       "      <td>0.0</td>\n",
       "    </tr>\n",
       "  </tbody>\n",
       "</table>\n",
       "</div>"
      ],
      "text/plain": [
       "              coef   std err       z  P>|z|\n",
       "const   -11.540500  0.435000 -26.544    0.0\n",
       "balance   0.005600  0.000000  24.835    0.0\n",
       "income    0.000021  0.000005   4.174    0.0"
      ]
     },
     "execution_count": 10,
     "metadata": {},
     "output_type": "execute_result"
    }
   ],
   "source": [
    "X = Default[['balance', 'income']]\n",
    "X = sm.add_constant(X)\n",
    "y = Default['default'].map({'No': 0, 'Yes': 1})\n",
    "\n",
    "model = sm.GLM(y, X, family=sm.families.Binomial())\n",
    "result = model.fit()\n",
    "summarize(result)"
   ]
  },
  {
   "cell_type": "code",
   "execution_count": 14,
   "metadata": {},
   "outputs": [
    {
     "name": "stdout",
     "output_type": "stream",
     "text": [
      "Standard error of coef: [4.23988422e-01 2.25115248e-04 4.90176729e-06]\n"
     ]
    }
   ],
   "source": [
    "def boot_fn(y, X, idx):\n",
    "    y_train = y.iloc[idx]\n",
    "    X_train = X.iloc[idx]\n",
    "\n",
    "    model = sm.GLM(y_train, X_train, family=sm.families.Binomial()).fit()\n",
    "\n",
    "    return model.params\n",
    "\n",
    "def boot_se(y, X, n_bootstrap=1000):\n",
    "    n = len(y)\n",
    "    boot_estimates = np.zeros((n_bootstrap, X.shape[1]))\n",
    "\n",
    "    for i in range(n_bootstrap):\n",
    "        idx = np.random.choice(np.arange(n), size=n, replace=True)\n",
    "        boot_estimates[i, :] = boot_fn(y, X, idx)\n",
    "    \n",
    "    # Compute standard errors from bootstrap estimates\n",
    "    boot_std_errors = np.std(boot_estimates, axis=0)\n",
    "    return boot_std_errors\n",
    "    \n",
    "print(f'Standard error of coef: {boot_se(y, X, 1000)}')\n"
   ]
  }
 ],
 "metadata": {
  "kernelspec": {
   "display_name": "Python 3 (ipykernel)",
   "language": "python",
   "name": "python3"
  },
  "language_info": {
   "codemirror_mode": {
    "name": "ipython",
    "version": 3
   },
   "file_extension": ".py",
   "mimetype": "text/x-python",
   "name": "python",
   "nbconvert_exporter": "python",
   "pygments_lexer": "ipython3",
   "version": "3.10.13"
  }
 },
 "nbformat": 4,
 "nbformat_minor": 2
}
